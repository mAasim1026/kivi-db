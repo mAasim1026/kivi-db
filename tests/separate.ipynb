{
 "cells": [
  {
   "cell_type": "code",
   "execution_count": 25,
   "id": "a0f87d25",
   "metadata": {},
   "outputs": [
    {
     "data": {
      "text/html": [
       "<div>\n",
       "<style scoped>\n",
       "    .dataframe tbody tr th:only-of-type {\n",
       "        vertical-align: middle;\n",
       "    }\n",
       "\n",
       "    .dataframe tbody tr th {\n",
       "        vertical-align: top;\n",
       "    }\n",
       "\n",
       "    .dataframe thead th {\n",
       "        text-align: right;\n",
       "    }\n",
       "</style>\n",
       "<table border=\"1\" class=\"dataframe\">\n",
       "  <thead>\n",
       "    <tr style=\"text-align: right;\">\n",
       "      <th></th>\n",
       "      <th>ThreadID</th>\n",
       "      <th>Command</th>\n",
       "      <th>ResponseTime</th>\n",
       "    </tr>\n",
       "  </thead>\n",
       "  <tbody>\n",
       "    <tr>\n",
       "      <th>0</th>\n",
       "      <td>2</td>\n",
       "      <td>delete key16</td>\n",
       "      <td>13316.1545</td>\n",
       "    </tr>\n",
       "    <tr>\n",
       "      <th>1</th>\n",
       "      <td>2</td>\n",
       "      <td>delete key2</td>\n",
       "      <td>123.7392</td>\n",
       "    </tr>\n",
       "    <tr>\n",
       "      <th>2</th>\n",
       "      <td>2</td>\n",
       "      <td>update key23 newvalue23</td>\n",
       "      <td>220.0603</td>\n",
       "    </tr>\n",
       "    <tr>\n",
       "      <th>3</th>\n",
       "      <td>2</td>\n",
       "      <td>delete key1</td>\n",
       "      <td>220.0603</td>\n",
       "    </tr>\n",
       "    <tr>\n",
       "      <th>4</th>\n",
       "      <td>2</td>\n",
       "      <td>update key16 newvalue16</td>\n",
       "      <td>215.7688</td>\n",
       "    </tr>\n",
       "  </tbody>\n",
       "</table>\n",
       "</div>"
      ],
      "text/plain": [
       "   ThreadID                  Command  ResponseTime\n",
       "0         2             delete key16    13316.1545\n",
       "1         2              delete key2      123.7392\n",
       "2         2  update key23 newvalue23      220.0603\n",
       "3         2              delete key1      220.0603\n",
       "4         2  update key16 newvalue16      215.7688"
      ]
     },
     "execution_count": 25,
     "metadata": {},
     "output_type": "execute_result"
    }
   ],
   "source": [
    "# Import necessary libraries\n",
    "import pandas as pd\n",
    "\n",
    "# Load the CSV file\n",
    "file_path = 'results.csv'  # Update with your actual file path\n",
    "data = pd.read_csv(file_path)\n",
    "\n",
    "# Inspect the data (optional)\n",
    "data.head()"
   ]
  },
  {
   "cell_type": "code",
   "execution_count": 26,
   "id": "7b7ed048",
   "metadata": {},
   "outputs": [
    {
     "name": "stdout",
     "output_type": "stream",
     "text": [
      "get:  250\n",
      "get:  250\n",
      "get:  250\n",
      "get:  250\n",
      "Average Response Times:\n",
      "Set: 216.30\n",
      "Get: 209.17\n",
      "Delete: 724.94\n",
      "Update: 214.48\n"
     ]
    }
   ],
   "source": [
    "# Filter the data based on command type\n",
    "set_data = data[data['Command'].str.startswith('set')]\n",
    "get_data = data[data['Command'].str.startswith('get')]\n",
    "delete_data = data[data['Command'].str.startswith('delete')]\n",
    "update_data = data[data['Command'].str.startswith('update')]\n",
    "\n",
    "print('get: ', get_data['ResponseTime'].count())\n",
    "print('get: ', set_data['ResponseTime'].count())\n",
    "print('get: ', update_data['ResponseTime'].count())\n",
    "print('get: ', delete_data['ResponseTime'].count())\n",
    "\n",
    "# Calculate average ResponseTime for each command type\n",
    "avg_set = set_data['ResponseTime'].mean()\n",
    "avg_get = get_data['ResponseTime'].mean()\n",
    "avg_delete = delete_data['ResponseTime'].mean()\n",
    "avg_update = update_data['ResponseTime'].mean()\n",
    "\n",
    "# Print the results\n",
    "print(\"Average Response Times:\")\n",
    "print(f\"Set: {avg_set:.2f}\")\n",
    "print(f\"Get: {avg_get:.2f}\")\n",
    "print(f\"Delete: {avg_delete:.2f}\")\n",
    "print(f\"Update: {avg_update:.2f}\")"
   ]
  },
  {
   "cell_type": "code",
   "execution_count": 27,
   "id": "6b650e34",
   "metadata": {},
   "outputs": [
    {
     "name": "stdout",
     "output_type": "stream",
     "text": [
      "Averages saved to 'average_response_times_10.csv'\n"
     ]
    }
   ],
   "source": [
    "# Optional: Save the averages to a file\n",
    "averages = {\n",
    "    'Command': ['set', 'get', 'delete', 'update'],\n",
    "    'Average ResponseTime': [round(avg_set, 2),round(avg_get, 2), round(avg_delete, 2), round(avg_update, 2)]\n",
    "}\n",
    "averages_df = pd.DataFrame(averages)\n",
    "averages_df.to_csv('average_response_times_10.csv', index=False)\n",
    "\n",
    "print(\"Averages saved to 'average_response_times_10.csv'\")"
   ]
  }
 ],
 "metadata": {
  "kernelspec": {
   "display_name": ".venv",
   "language": "python",
   "name": "python3"
  },
  "language_info": {
   "codemirror_mode": {
    "name": "ipython",
    "version": 3
   },
   "file_extension": ".py",
   "mimetype": "text/x-python",
   "name": "python",
   "nbconvert_exporter": "python",
   "pygments_lexer": "ipython3",
   "version": "3.13.0"
  }
 },
 "nbformat": 4,
 "nbformat_minor": 5
}
